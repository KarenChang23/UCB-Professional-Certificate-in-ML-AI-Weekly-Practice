{
 "cells": [
  {
   "cell_type": "markdown",
   "id": "f639309d",
   "metadata": {
    "nbgrader": {
     "grade": false,
     "grade_id": "cell-e1db32c15778e963",
     "locked": true,
     "schema_version": 1,
     "solution": false
    }
   },
   "source": [
    "## Required Assignment 1.3: Selecting Data in Multiple Ways\n",
    "\n",
    "**Expected Time: 45 Minutes**\n",
    "\n",
    "**Total Points: 20 Points**\n",
    "\n",
    "In this assignment, you will practice selecting data using `loc[]`, `iloc[]`, and `split`.\n",
    "\n",
    "## Index:\n",
    "\n",
    "- [Part 1](#Part-one)\n",
    "- [Part 2](#Part-two)\n",
    "- [Part 3](#Part-three)"
   ]
  },
  {
   "cell_type": "code",
   "execution_count": null,
   "id": "8fb9fea8",
   "metadata": {},
   "outputs": [],
   "source": [
    "import pandas as pd"
   ]
  },
  {
   "cell_type": "markdown",
   "id": "bf9afa9a",
   "metadata": {
    "nbgrader": {
     "grade": false,
     "grade_id": "cell-c5192e6fb172717e",
     "locked": true,
     "schema_version": 1,
     "solution": false
    }
   },
   "source": [
    "[Back to top](#Index:) \n",
    "\n",
    "## Part one\n",
    "\n",
    "### Using `loc[]` to select data\n",
    "\n",
    "**2 Points each**\n",
    "\n",
    "In this part of the assignment, return the required information from the `data` DataFrame using the `loc[]` method."
   ]
  },
  {
   "cell_type": "code",
   "execution_count": null,
   "id": "dd9f7601",
   "metadata": {},
   "outputs": [],
   "source": [
    "#create the DataFrame utilizing Pandas \n",
    "data = pd.read_csv('data/nba.csv')\n",
    "data = data.iloc[:-1 , :]\n",
    "data.head(5)"
   ]
  },
  {
   "cell_type": "markdown",
   "id": "33f7f16a",
   "metadata": {
    "nbgrader": {
     "grade": false,
     "grade_id": "cell-664c4fbe2139b828",
     "locked": true,
     "schema_version": 1,
     "solution": false
    }
   },
   "source": [
    "Use the `loc[]` method to retrieve the first row of the `data` DataFrame and assign the result to the `locinfo` variable."
   ]
  },
  {
   "cell_type": "code",
   "execution_count": null,
   "id": "57ca7512",
   "metadata": {
    "nbgrader": {
     "grade": false,
     "grade_id": "cell-b045abc8cbfc7df8",
     "locked": false,
     "schema_version": 1,
     "solution": true
    }
   },
   "outputs": [],
   "source": [
    "### GRADED\n",
    "\n",
    "\n",
    "locinfo = None\n",
    "\n",
    "### BEGIN SOLUTION\n",
    "locinfo = data.loc[0]\n",
    "### END SOLUTION\n",
    "\n",
    "# ANSWER CHECK\n",
    "print(locinfo)"
   ]
  },
  {
   "cell_type": "markdown",
   "id": "c75b7fd6",
   "metadata": {
    "nbgrader": {
     "grade": false,
     "grade_id": "cell-5d5143963d896b5a",
     "locked": true,
     "schema_version": 1,
     "solution": false
    }
   },
   "source": [
    "Use the `loc[]` method on the `data` DataFrame to retrieve the information about LeBron James' `Name` and `Team`. Assign the result to the `teamdata` variable."
   ]
  },
  {
   "cell_type": "code",
   "execution_count": null,
   "id": "e1174d77",
   "metadata": {
    "nbgrader": {
     "grade": false,
     "grade_id": "cell-2ce96b09f45395ce",
     "locked": false,
     "schema_version": 1,
     "solution": true
    }
   },
   "outputs": [],
   "source": [
    "### GRADED\n",
    "\n",
    "\n",
    "teamdata = None\n",
    "\n",
    "### BEGIN SOLUTION\n",
    "teamdata = data.loc[data.Name == 'LeBron James', 'Name':'Team']\n",
    "### END SOLUTION\n",
    "\n",
    "# ANSWER CHECK\n",
    "print(teamdata)"
   ]
  },
  {
   "cell_type": "markdown",
   "id": "f09afc68",
   "metadata": {
    "nbgrader": {
     "grade": false,
     "grade_id": "cell-3dbaee614a4b6329",
     "locked": true,
     "schema_version": 1,
     "solution": false
    }
   },
   "source": [
    "[Back to top](#Index:) \n",
    "\n",
    "## Part two\n",
    "\n",
    "### Using `iloc[]` to select data\n",
    "\n",
    "In this part of the assignment, return the required information from the `data` DataFrame using the `iloc[]` method.\n",
    "\n",
    "**2 Points each**\n",
    "\n",
    "Use the `iloc[]` method to retrieve the first row of the `data` DataFrame and assign the result to the `fr` variable."
   ]
  },
  {
   "cell_type": "code",
   "execution_count": null,
   "id": "793ad2ec",
   "metadata": {
    "nbgrader": {
     "grade": false,
     "grade_id": "cell-ac4f90f3ca044a80",
     "locked": false,
     "schema_version": 1,
     "solution": true
    }
   },
   "outputs": [],
   "source": [
    "### GRADED\n",
    "\n",
    "fr = None\n",
    "\n",
    "### BEGIN SOLUTION\n",
    "\n",
    "fr = data.iloc[0]\n",
    "\n",
    "### END SOLUTION\n",
    "\n",
    "# ANSWER CHECK\n",
    "print(fr)"
   ]
  },
  {
   "cell_type": "markdown",
   "id": "db88446c",
   "metadata": {
    "nbgrader": {
     "grade": false,
     "grade_id": "cell-b1cec82b9752a1c4",
     "locked": true,
     "schema_version": 1,
     "solution": false
    }
   },
   "source": [
    "Use the `iloc[]` method to retrieve the second row of the `data` DataFrame and assign the result to the `sr` variable."
   ]
  },
  {
   "cell_type": "code",
   "execution_count": null,
   "id": "ae0604a2",
   "metadata": {
    "nbgrader": {
     "grade": false,
     "grade_id": "cell-c96cb0193a5accb4",
     "locked": false,
     "schema_version": 1,
     "solution": true
    }
   },
   "outputs": [],
   "source": [
    "### GRADED\n",
    "\n",
    "\n",
    "sr = None\n",
    "\n",
    "### BEGIN SOLUTION\n",
    "\n",
    "sr =  data.iloc[1]\n",
    "\n",
    "### END SOLUTION\n",
    "\n",
    "# ANSWER CHECK\n",
    "print(sr)"
   ]
  },
  {
   "attachments": {},
   "cell_type": "markdown",
   "id": "364e08b8",
   "metadata": {
    "nbgrader": {
     "grade": false,
     "grade_id": "cell-385c13cb449cce41",
     "locked": true,
     "schema_version": 1,
     "solution": false
    }
   },
   "source": [
    "Use the `iloc[]` method to retrieve the last row of the `data` DataFrame and assign the result to the `lr` variable."
   ]
  },
  {
   "cell_type": "code",
   "execution_count": null,
   "id": "1e2edd0a",
   "metadata": {
    "nbgrader": {
     "grade": false,
     "grade_id": "cell-1843d8fe5e08d07a",
     "locked": false,
     "schema_version": 1,
     "solution": true
    }
   },
   "outputs": [],
   "source": [
    "### GRADED\n",
    "\n",
    "\n",
    "lr = None\n",
    "\n",
    "### BEGIN SOLUTION\n",
    "\n",
    "lr =  data.iloc[-1] \n",
    "\n",
    "### END SOLUTION\n",
    "\n",
    "# ANSWER CHECK\n",
    "print(lr)"
   ]
  },
  {
   "cell_type": "markdown",
   "id": "54014e9d",
   "metadata": {
    "nbgrader": {
     "grade": false,
     "grade_id": "cell-e6db93d4de10bae9",
     "locked": true,
     "schema_version": 1,
     "solution": false
    }
   },
   "source": [
    "Use the `iloc[]` method to retrieve the first column of the `data` DataFrame and assign the result to the `fc` variable."
   ]
  },
  {
   "cell_type": "code",
   "execution_count": null,
   "id": "aad02cdd",
   "metadata": {
    "nbgrader": {
     "grade": false,
     "grade_id": "cell-b2ddae2ebcad6705",
     "locked": false,
     "schema_version": 1,
     "solution": true
    }
   },
   "outputs": [],
   "source": [
    "###GRADED\n",
    "\n",
    " \n",
    "fc = None\n",
    "\n",
    "### BEGIN SOLUTION\n",
    "\n",
    "fc =  data.iloc[:,0] \n",
    "\n",
    "### END SOLUTION\n",
    "\n",
    "# ANSWER CHECK\n",
    "print(fc)"
   ]
  },
  {
   "cell_type": "markdown",
   "id": "819ad24c",
   "metadata": {
    "nbgrader": {
     "grade": false,
     "grade_id": "cell-e2331903ace630ce",
     "locked": true,
     "schema_version": 1,
     "solution": false
    }
   },
   "source": [
    "Use the `iloc[]` method to retrieve the second column of the `data` DataFrame and assign the result to the `sc` variable."
   ]
  },
  {
   "cell_type": "code",
   "execution_count": null,
   "id": "8b7bc773",
   "metadata": {
    "nbgrader": {
     "grade": false,
     "grade_id": "cell-35925d6c39ff9c32",
     "locked": false,
     "schema_version": 1,
     "solution": true
    }
   },
   "outputs": [],
   "source": [
    "### GRADED\n",
    "\n",
    "\n",
    "sc = None\n",
    "\n",
    "### BEGIN SOLUTION\n",
    "\n",
    "sc =  data.iloc[:,1]\n",
    "\n",
    "### END SOLUTION\n",
    "\n",
    "# ANSWER CHECK\n",
    "print(sc)"
   ]
  },
  {
   "cell_type": "markdown",
   "id": "053722a0",
   "metadata": {
    "nbgrader": {
     "grade": false,
     "grade_id": "cell-d5719eea9a0f018c",
     "locked": true,
     "schema_version": 1,
     "solution": false
    }
   },
   "source": [
    "Use the `iloc[]` method to retrieve the last column of the `data` DataFrame and assign the result to the `lc` variable."
   ]
  },
  {
   "cell_type": "code",
   "execution_count": null,
   "id": "b76b2329",
   "metadata": {
    "nbgrader": {
     "grade": false,
     "grade_id": "cell-04a5a0d17f2b4901",
     "locked": false,
     "schema_version": 1,
     "solution": true
    }
   },
   "outputs": [],
   "source": [
    "### GRADED\n",
    "\n",
    "\n",
    "lc = None\n",
    "\n",
    "### BEGIN SOLUTION\n",
    "\n",
    "lc =  data.iloc[:,-1] \n",
    "\n",
    "### END SOLUTION\n",
    "\n",
    "# ANSWER CHECK\n",
    "print(lc)"
   ]
  },
  {
   "cell_type": "code",
   "execution_count": null,
   "id": "7ba1f625",
   "metadata": {
    "nbgrader": {
     "grade": true,
     "grade_id": "cell-86adba4835e0586a",
     "locked": true,
     "points": 2,
     "schema_version": 1,
     "solution": false
    }
   },
   "outputs": [],
   "source": [
    "### BEGIN HIDDEN TESTS\n",
    "lc1 =  data.iloc[:,-1]\n",
    "assert type(lc) == type(lc1)\n",
    "lc == lc1\n",
    "\n",
    "### END HIDDEN TESTS"
   ]
  },
  {
   "cell_type": "markdown",
   "id": "ea9730df",
   "metadata": {
    "nbgrader": {
     "grade": false,
     "grade_id": "cell-a2d49a9f9bf6d7df",
     "locked": true,
     "schema_version": 1,
     "solution": false
    }
   },
   "source": [
    "[Back to top](#Index:) \n",
    "\n",
    "## Part three\n",
    "\n",
    "### Using `split()` to select data\n",
    "\n",
    "In this part of the assignment, return the required information from the `data` DataFrame using the `split()` function.\n",
    "\n",
    "**2 Points each**\n",
    "\n",
    "In this exercise, use the `split()` function to return the first name of the first player in the `data` DataFrame. Assign the result to the variable `firstname`.\n",
    "\n"
   ]
  },
  {
   "cell_type": "code",
   "execution_count": null,
   "id": "8c719422",
   "metadata": {
    "nbgrader": {
     "grade": false,
     "grade_id": "cell-268b6113422e9d31",
     "locked": false,
     "schema_version": 1,
     "solution": true
    }
   },
   "outputs": [],
   "source": [
    "### GRADED\n",
    "\n",
    "\n",
    "\n",
    "firstname = None\n",
    "\n",
    "### BEGIN SOLUTION\n",
    "\n",
    "firstname = data['Name'].str.split().str[0].iloc[0]\n",
    "\n",
    "### END SOLUTION\n",
    "\n",
    "# ANSWER CHECK\n",
    "print('The first name is ' + firstname)"
   ]
  },
  {
   "cell_type": "markdown",
   "id": "25f1e984",
   "metadata": {
    "nbgrader": {
     "grade": false,
     "grade_id": "cell-6516a178a826acff",
     "locked": true,
     "schema_version": 1,
     "solution": false
    }
   },
   "source": [
    "In this exercise, use the `split()` function to return the last name of the first player in the `data` DataFrame. Assign the result to the variable `lastname`."
   ]
  },
  {
   "cell_type": "code",
   "execution_count": null,
   "id": "c6bca3d5",
   "metadata": {
    "nbgrader": {
     "grade": false,
     "grade_id": "cell-66242b355c8d6e79",
     "locked": false,
     "schema_version": 1,
     "solution": true
    }
   },
   "outputs": [],
   "source": [
    "###GRADED\n",
    "\n",
    "# Please print the last full name of the first series in the data frame.\n",
    "\n",
    "lastname = None\n",
    "\n",
    "### BEGIN SOLUTION\n",
    "lastname =  data['Name'].str.split().str[1].iloc[0]\n",
    "### END SOLUTION\n",
    "\n",
    "# ANSWER CHECK\n",
    "print('The last name is ' + lastname)"
   ]
  },
  {
   "cell_type": "code",
   "execution_count": null,
   "id": "433a7cbf",
   "metadata": {},
   "outputs": [],
   "source": []
  }
 ],
 "metadata": {
  "celltoolbar": "Create Assignment",
  "kernelspec": {
   "display_name": "Python 3 (ipykernel)",
   "language": "python",
   "name": "python3"
  },
  "language_info": {
   "codemirror_mode": {
    "name": "ipython",
    "version": 3
   },
   "file_extension": ".py",
   "mimetype": "text/x-python",
   "name": "python",
   "nbconvert_exporter": "python",
   "pygments_lexer": "ipython3",
   "version": "3.11.9"
  }
 },
 "nbformat": 4,
 "nbformat_minor": 5
}
