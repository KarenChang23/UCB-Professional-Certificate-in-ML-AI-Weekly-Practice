{
 "cells": [
  {
   "cell_type": "markdown",
   "metadata": {
    "nbgrader": {
     "grade": false,
     "grade_id": "cell-16c6fc7550cf2b50",
     "locked": true,
     "schema_version": 1,
     "solution": false
    }
   },
   "source": [
    "## Required Assignment 1.1: pandas Dataframes\n",
    "\n",
    "**Expected time: 30 minutes**\n",
    "\n",
    "**Total Points: 12**\n",
    "    \n",
    "    This assignment focuses on creating DataFrames using a dictionary, URL, and local file.\n",
    "    \n",
    "## Index:\n",
    "\n",
    "- [Problem 1](#Problem-1)\n",
    "- [Problem 2](#Problem-2)\n",
    "- [Problem 3](#Problem-3)"
   ]
  },
  {
   "cell_type": "code",
   "execution_count": null,
   "metadata": {},
   "outputs": [],
   "source": [
    "import pandas as pd"
   ]
  },
  {
   "cell_type": "markdown",
   "metadata": {
    "nbgrader": {
     "grade": false,
     "grade_id": "cell-9a498093ba5fc14f",
     "locked": true,
     "schema_version": 1,
     "solution": false
    }
   },
   "source": [
    "[Back to top](#Index:) \n",
    "\n",
    "## Problem 1\n",
    "\n",
    "### Creating a DataFrame\n",
    "\n",
    "**4 Points**\n",
    "\n",
    "Use a dictionary to create a DataFrame. Assign your results to the variable `total_widgets` below.\n"
   ]
  },
  {
   "cell_type": "code",
   "execution_count": null,
   "metadata": {
    "nbgrader": {
     "grade": false,
     "grade_id": "cell-def2f9b9bb27ac1d",
     "locked": false,
     "schema_version": 1,
     "solution": true
    }
   },
   "outputs": [],
   "source": [
    "###GRADED\n",
    "#Create a dataframe from the the widgets dictionary\n",
    "\n",
    "#Create the dictionary of simulated data\n",
    "data = {\n",
    "    'WidgetA': [10, 9, 7, 8], \n",
    "    'WidgetB': [11, 12, 30, 1]\n",
    "}\n",
    "\n",
    "#And then pass it to the pandas DataFrame constructor total_widgets\n",
    "\n",
    "total_widgets = None\n",
    "\n",
    "### BEGIN SOLUTION\n",
    "\n",
    "total_widgets = pd.DataFrame(data)\n",
    "\n",
    "### END SOLUTION\n",
    "\n",
    "#Printing the total widgets \n",
    "print(total_widgets)"
   ]
  },
  {
   "cell_type": "markdown",
   "metadata": {
    "nbgrader": {
     "grade": false,
     "grade_id": "cell-f53b9feab8ee6b6b",
     "locked": true,
     "schema_version": 1,
     "solution": false
    }
   },
   "source": [
    "[Back to top](#Index:) \n",
    "\n",
    "## Problem 2\n",
    "\n",
    "### Create a DataFrame from url\n",
    "\n",
    "**4 Points**\n",
    "\n",
    "Now, use a URL to load data to a DataFrame. The URL below links to a .csv file in a GitHub repository containing data about diamonds. Assign your resulting DataFrame to the variable `diamonds` below."
   ]
  },
  {
   "cell_type": "code",
   "execution_count": null,
   "metadata": {},
   "outputs": [],
   "source": [
    "url = 'https://raw.githubusercontent.com/mwaskom/seaborn-data/master/diamonds.csv'"
   ]
  },
  {
   "cell_type": "code",
   "execution_count": null,
   "metadata": {
    "nbgrader": {
     "grade": false,
     "grade_id": "cell-8bb615f9c4e19312",
     "locked": false,
     "schema_version": 1,
     "solution": true
    }
   },
   "outputs": [],
   "source": [
    "### GRADED\n",
    "\n",
    "diamonds = ''\n",
    "\n",
    "### BEGIN SOLUTION\n",
    "diamonds = pd.read_csv(url)\n",
    "### END SOLUTION\n",
    "\n",
    "# Answer check\n",
    "print(type(diamonds))\n",
    "diamonds.head()"
   ]
  },
  {
   "cell_type": "markdown",
   "metadata": {
    "nbgrader": {
     "grade": false,
     "grade_id": "cell-1027c280d7f5c186",
     "locked": true,
     "schema_version": 1,
     "solution": false
    }
   },
   "source": [
    "[Back to top](#Index:) \n",
    "\n",
    "##  Problem 3\n",
    "\n",
    "### Create a DataFrame by importing data from a file.\n",
    "\n",
    "**4 Points**\n",
    "\n",
    "Now, use the data file located in the data folder named `nba.csv.` Assign your results as a DataFrame to the variable `nba` below."
   ]
  },
  {
   "cell_type": "code",
   "execution_count": null,
   "metadata": {
    "nbgrader": {
     "grade": false,
     "grade_id": "cell-7d6b9e515bd3b13f",
     "locked": false,
     "schema_version": 1,
     "solution": true
    }
   },
   "outputs": [],
   "source": [
    "### GRADED\n",
    "\n",
    "nba = ''\n",
    "\n",
    "### BEGIN SOLUTION\n",
    "nba = pd.read_csv('data/nba.csv')\n",
    "### END SOLUTION\n",
    "\n",
    "# Answer check\n",
    "print(type(nba))\n",
    "nba.head()\n"
   ]
  }
 ],
 "metadata": {
  "celltoolbar": "Create Assignment",
  "kernelspec": {
   "display_name": "Python 3 (ipykernel)",
   "language": "python",
   "name": "python3"
  },
  "language_info": {
   "codemirror_mode": {
    "name": "ipython",
    "version": 3
   },
   "file_extension": ".py",
   "mimetype": "text/x-python",
   "name": "python",
   "nbconvert_exporter": "python",
   "pygments_lexer": "ipython3",
   "version": "3.11.9"
  }
 },
 "nbformat": 4,
 "nbformat_minor": 4
}
