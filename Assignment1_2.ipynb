{
 "cells": [
  {
   "cell_type": "markdown",
   "metadata": {
    "nbgrader": {
     "grade": false,
     "grade_id": "cell-a928615886fa790e",
     "locked": true,
     "schema_version": 1,
     "solution": false
    }
   },
   "source": [
    "## Required Codio Assignment 1.2: Exploring a DataFrame \n",
    "\n",
    "**Expected Time: 30 Minutes**\n",
    "\n",
    "**Total Points: 12 Points**\n",
    "\n",
    "In this exercise you will use basic summarization methods on a pandas DataFrame.\n",
    "\n",
    "## Index:\n",
    "\n",
    "- [Problem 1](#Problem-1)\n",
    "- [Problem 2](#Problem-2)\n",
    "- [Problem 3](#Problem-3)"
   ]
  },
  {
   "cell_type": "code",
   "execution_count": null,
   "metadata": {},
   "outputs": [],
   "source": [
    "import pandas as pd\n",
    "import numpy as np"
   ]
  },
  {
   "cell_type": "code",
   "execution_count": null,
   "metadata": {},
   "outputs": [],
   "source": [
    "nba = pd.read_csv('data/nba.csv', index_col = 0)"
   ]
  },
  {
   "cell_type": "markdown",
   "metadata": {
    "nbgrader": {
     "grade": false,
     "grade_id": "cell-de5edc1cb59236d3",
     "locked": true,
     "schema_version": 1,
     "solution": false
    }
   },
   "source": [
    "[Back to top](#Index:) \n",
    "\n",
    "## Problem 1\n",
    "\n",
    "### Describing the data\n",
    "\n",
    "**4 Points**\n",
    "\n",
    "Using the DataFrame `nba` loaded above, get a summary of the numeric variables using the `.describe` method.  Assign your results as a DataFrame to `nba_summary` below. "
   ]
  },
  {
   "cell_type": "code",
   "execution_count": null,
   "metadata": {
    "nbgrader": {
     "grade": false,
     "grade_id": "cell-cb8365b624aba7a4",
     "locked": false,
     "schema_version": 1,
     "solution": true
    }
   },
   "outputs": [],
   "source": [
    "### GRADED\n",
    "\n",
    "nba_summary = None\n",
    "\n",
    "### BEGIN SOLUTION\n",
    "nba_summary = nba.describe()\n",
    "type(nba_summary)\n",
    "### END SOLUTION\n",
    "\n",
    "# Answer check\n",
    "print(nba_summary)\n",
    "print(type(nba_summary))"
   ]
  },
  {
   "cell_type": "markdown",
   "metadata": {
    "nbgrader": {
     "grade": false,
     "grade_id": "cell-ca874c0433a24e23",
     "locked": true,
     "schema_version": 1,
     "solution": false
    }
   },
   "source": [
    "[Back to top](#Index:) \n",
    "\n",
    "### Problem 2\n",
    "\n",
    "### Getting the missing data information \n",
    "\n",
    "**4 Points**\n",
    "\n",
    "In the National Basketball Association (NBA), there are some athletes that do not take the usual career path of playing for a college and then become a professional athlete. Some athletes skip college and go professional directly out of high school. How many athletes in this DataFrame skipped college and went straight to the professional level?\n",
    "\n",
    "To find this answer, create a series with the counts of null values for each column in the `nba` DataFrame.  Assign your solution as a pandas Series to `nba_nulls` below.  **HINT**: Use the `.isnull` and `.sum` methods together on the `nba` DataFrame. "
   ]
  },
  {
   "cell_type": "code",
   "execution_count": null,
   "metadata": {
    "nbgrader": {
     "grade": false,
     "grade_id": "cell-a78e6c5da54a7081",
     "locked": false,
     "schema_version": 1,
     "solution": true
    }
   },
   "outputs": [],
   "source": [
    "### GRADED\n",
    "\n",
    "nba_nulls = None\n",
    "\n",
    "### BEGIN SOLUTION\n",
    "nba_nulls = nba.isnull().sum()\n",
    "type(nba_nulls)\n",
    "### END SOLUTION\n",
    "\n",
    "# Answer check\n",
    "print(nba_nulls)\n",
    "print(type(nba_nulls))"
   ]
  },
  {
   "cell_type": "markdown",
   "metadata": {
    "nbgrader": {
     "grade": false,
     "grade_id": "cell-1cf0384be79af991",
     "locked": true,
     "schema_version": 1,
     "solution": false
    }
   },
   "source": [
    "[Back to top](#Index:) \n",
    "\n",
    "## Problem 3\n",
    "\n",
    "### Examining top 10 rows\n",
    "\n",
    "**4 Points**\n",
    "\n",
    "Use the `.head` method to display the first ten rows of the `nba` DataFrame.  Assign your results as a DataFrame to the `nba_head` variable below."
   ]
  },
  {
   "cell_type": "code",
   "execution_count": null,
   "metadata": {
    "nbgrader": {
     "grade": false,
     "grade_id": "cell-531911d9bad842be",
     "locked": false,
     "schema_version": 1,
     "solution": true
    }
   },
   "outputs": [],
   "source": [
    "### GRADED\n",
    "\n",
    "nba_head = None\n",
    "\n",
    "### BEGIN SOLUTION\n",
    "nba_head = nba.head(10)\n",
    "type(nba_head)\n",
    "### END SOLUTION\n",
    "\n",
    "# Answer check\n",
    "print(nba_head)\n",
    "print(nba_head.shape)"
   ]
  }
 ],
 "metadata": {
  "celltoolbar": "Create Assignment",
  "kernelspec": {
   "display_name": "Python 3 (ipykernel)",
   "language": "python",
   "name": "python3"
  },
  "language_info": {
   "codemirror_mode": {
    "name": "ipython",
    "version": 3
   },
   "file_extension": ".py",
   "mimetype": "text/x-python",
   "name": "python",
   "nbconvert_exporter": "python",
   "pygments_lexer": "ipython3",
   "version": "3.11.9"
  },
  "widgets": {
   "application/vnd.jupyter.widget-state+json": {
    "state": {},
    "version_major": 2,
    "version_minor": 0
   }
  }
 },
 "nbformat": 4,
 "nbformat_minor": 4
}
